{
  "cells": [
    {
      "cell_type": "markdown",
      "metadata": {
        "id": "kYBgya0XhGPW"
      },
      "source": [
        "[![image](https://colab.research.google.com/assets/colab-badge.svg)](https://colab.research.google.com/github/giswqs/geog-312/blob/master/labs/lab_05.ipynb)\n",
        "[![image](https://binder.pangeo.io/badge_logo.svg)](https://gishub.org/geog312-pangeo)\n",
        "\n",
        "**Cameron Corsino**"
      ]
    },
    {
      "cell_type": "code",
      "execution_count": 1,
      "metadata": {
        "id": "Ag9qxi8ThGPY",
        "outputId": "8522e570-20e3-43e0-a6ae-80feed5c4755",
        "colab": {
          "base_uri": "https://localhost:8080/"
        }
      },
      "outputs": [
        {
          "output_type": "stream",
          "name": "stdout",
          "text": [
            "Submitted time: 2023-09-29 19:57:44.393339\n"
          ]
        }
      ],
      "source": [
        "from datetime import datetime\n",
        "\n",
        "now = datetime.now()\n",
        "print(f\"Submitted time: {now}\")"
      ]
    },
    {
      "cell_type": "markdown",
      "metadata": {
        "id": "uYdEl8tHhGPY"
      },
      "source": [
        "## Question 1\n",
        "**Person:** Use a dictionary to store information about a person you know. Store their first name, last name, age, and the city in which they live. You should have keys such as first_name, last_name, age, and city. Print each piece of information stored in your dictionary."
      ]
    },
    {
      "cell_type": "code",
      "execution_count": 2,
      "metadata": {
        "id": "hXp6N9O1hGPZ",
        "outputId": "f672636a-f2c1-422f-d4e5-b205413c2588",
        "colab": {
          "base_uri": "https://localhost:8080/"
        }
      },
      "outputs": [
        {
          "output_type": "stream",
          "name": "stdout",
          "text": [
            "Gabrielle\n",
            "Corsino\n",
            "24\n",
            "Phoenix\n"
          ]
        }
      ],
      "source": [
        "person = {'first_name':'Gabrielle','last_name':'Corsino','age': 24,'city':'Phoenix',}\n",
        "print(person['first_name'])\n",
        "print((person['last_name']))\n",
        "print(person['age'])\n",
        "print(person['city'])"
      ]
    },
    {
      "cell_type": "markdown",
      "metadata": {
        "id": "YBocBV0WhGPZ"
      },
      "source": [
        "## Question 2\n",
        "**Favorite Numbers:** Use a dictionary to store people’s favorite numbers. Think of five names, and use them as keys in your dictionary. Think of a favorite number for each person, and store each as a value in your dictionary. Print each person’s name and their favorite number. For even more fun, poll a few friends and get some actual data for your program."
      ]
    },
    {
      "cell_type": "code",
      "execution_count": 5,
      "metadata": {
        "id": "HqXrYuukhGPZ",
        "outputId": "698c8f7b-6dc1-4815-e249-17fe17df024d",
        "colab": {
          "base_uri": "https://localhost:8080/"
        }
      },
      "outputs": [
        {
          "output_type": "stream",
          "name": "stdout",
          "text": [
            "Cam's favorite number: 6\n",
            "Matt's favorite number: 11\n",
            "Scott's favorite number: 16\n",
            "Jackson's favorite number: 8\n",
            "Kyle's favorite number: 2\n"
          ]
        }
      ],
      "source": [
        "favorite_numbers = {'Cam': 6,'Matt': 11,'Scott': 16, 'Jackson': 8,'Kyle': 2}\n",
        "num = favorite_numbers['Cam']\n",
        "print(\"Cam's favorite number: \" +str(num) +\"\")\n",
        "num = favorite_numbers['Matt']\n",
        "print(\"Matt's favorite number: \" +str(num) +\"\")\n",
        "num = favorite_numbers['Scott']\n",
        "print(\"Scott's favorite number: \" +str(num) +\"\")\n",
        "num = favorite_numbers['Jackson']\n",
        "print(\"Jackson's favorite number: \" +str(num) +\"\")\n",
        "num = favorite_numbers['Kyle']\n",
        "print(\"Kyle's favorite number: \" +str(num) +\"\")\n",
        "\n"
      ]
    },
    {
      "cell_type": "markdown",
      "metadata": {
        "id": "zuNjEn5hhGPZ"
      },
      "source": [
        "## Question 3\n",
        "**Glossary:** A Python dictionary can be used to model an actual dictionary. However, to avoid confusion, let’s call it a glossary.\n",
        "\n",
        "* Think of five programming words you’ve learned about in the previous chapters. Use these words as the keys in your glossary, and store their meanings as values.\n",
        "* Print each word and its meaning as neatly formatted output. You might print the word followed by a colon and then its meaning, or print the word on one line and then print its meaning indented on a second line. Use the newline character (\\n) to insert a blank line between each word-meaning pair in your output."
      ]
    },
    {
      "cell_type": "code",
      "execution_count": 13,
      "metadata": {
        "id": "KXQ7YNCzhGPZ",
        "outputId": "29c3641a-2a37-44b4-8715-65ad664dd569",
        "colab": {
          "base_uri": "https://localhost:8080/"
        }
      },
      "outputs": [
        {
          "output_type": "stream",
          "name": "stdout",
          "text": [
            "\n",
            "String: A series of characters.\n",
            "\n",
            "Method: An action that Python can perform on a piece of data.\n",
            "\n",
            "Whitespace: any nonprinting character.\n",
            "\n",
            "Float: Any number with a decimal point.\n",
            "\n",
            "Comment: allows you to write notes in english within your programs.\n"
          ]
        }
      ],
      "source": [
        "glossary = {'string':'A series of characters.','method':'An action that Python can perform on a piece of data.','whitespace':'any nonprinting character.','float':'Any number with a decimal point.','comment':'allows you to write notes in english within your programs.',}\n",
        "word = 'string'\n",
        "print(\"\\n\" + word.title() + \": \" + glossary[word])\n",
        "word = 'method'\n",
        "print(\"\\n\" + word.title() + \": \" + glossary[word])\n",
        "word = 'whitespace'\n",
        "print(\"\\n\" + word.title() + \": \" + glossary[word])\n",
        "word = 'float'\n",
        "print(\"\\n\" + word.title() + \": \" + glossary[word])\n",
        "word = 'comment'\n",
        "print(\"\\n\" + word.title() + \": \" + glossary[word])"
      ]
    },
    {
      "cell_type": "markdown",
      "metadata": {
        "id": "g3VwzAL1hGPZ"
      },
      "source": [
        "## Question 4\n",
        "**Glossary 2:** Now that you know how to loop through a dictionary, clean up the code from Question 3 by replacing your series of print() calls with a loop that runs through the dictionary’s keys and values. When you’re sure that your loop works, add five more Python terms to your glossary. When you run your program again, these new words and meanings should automatically be included in the output."
      ]
    },
    {
      "cell_type": "code",
      "execution_count": 14,
      "metadata": {
        "id": "mzCli88ghGPa",
        "outputId": "f001171a-fbda-4cc9-c01c-20e4a692173d",
        "colab": {
          "base_uri": "https://localhost:8080/"
        }
      },
      "outputs": [
        {
          "output_type": "stream",
          "name": "stdout",
          "text": [
            "\n",
            "String: A series of characters.\n",
            "\n",
            "Method: An action that Python can perform on a piece of data.\n",
            "\n",
            "Whitespace: any nonprinting character.\n",
            "\n",
            "Float: Any number with a decimal point.\n",
            "\n",
            "Comment: allows you to write notes in english within your programs.\n",
            "\n",
            "List: A collection of items in a particular order.\n",
            "\n",
            "Pop(): Removes the last item in a list\n",
            "\n",
            "Range(): Makes it easy to generate a series of numbers\n",
            "\n",
            "List Comprehension: allows you to generate the same list in just one line of code\n",
            "\n",
            "Loop: work through a collection of items.\n"
          ]
        }
      ],
      "source": [
        "glossary = {'string':'A series of characters.','method':'An action that Python can perform on a piece of data.','whitespace':'any nonprinting character.','float':'Any number with a decimal point.','comment':'allows you to write notes in english within your programs.','list':'A collection of items in a particular order.','pop()':'Removes the last item in a list','range()':'Makes it easy to generate a series of numbers','list comprehension':'allows you to generate the same list in just one line of code','loop':'work through a collection of items.'}\n",
        "for word, definition in glossary.items():\n",
        "  print(\"\\n\" + word.title() + \": \" + definition)"
      ]
    },
    {
      "cell_type": "markdown",
      "metadata": {
        "id": "h_IcA3X2hGPa"
      },
      "source": [
        "## Question 5\n",
        "**Rivers:** Make a dictionary containing three major rivers and the country each river runs through. One key-value pair might be 'nile': 'egypt'.\n",
        "\n",
        "* Use a loop to print a sentence about each river, such as *The Nile runs through Egypt.*\n",
        "* Use a loop to print the name of each river included in the dictionary.\n",
        "* Use a loop to print the name of each country included in the dictionary."
      ]
    },
    {
      "cell_type": "code",
      "execution_count": 22,
      "metadata": {
        "id": "mtu5ID3hhGPa",
        "outputId": "8d171308-0f36-4c36-c46b-5844372e97f8",
        "colab": {
          "base_uri": "https://localhost:8080/"
        }
      },
      "outputs": [
        {
          "output_type": "stream",
          "name": "stdout",
          "text": [
            "The Nile flows through Egypt.\n",
            "The Tennessee flows through United States.\n",
            "The Congo flows through Congo.\n",
            "\n",
            " Rivers:\n",
            "- Nile\n",
            "- Tennessee\n",
            "- Congo\n",
            "\n",
            " Countries:\n",
            "- Egypt\n",
            "- United States\n",
            "- Congo\n"
          ]
        }
      ],
      "source": [
        "rivers = {'nile':'egypt','tennessee':'united states','congo':'congo',}\n",
        "for river, country in rivers.items():\n",
        "  print(\"The \" + river.title() + \" flows through \" + country.title() + \".\")\n",
        "print(\"\\n Rivers:\")\n",
        "for river in rivers.keys():\n",
        "    print(\"- \" + river.title())\n",
        "print(\"\\n Countries:\")\n",
        "for country in rivers.values():\n",
        "    print(\"- \" + country.title())"
      ]
    },
    {
      "cell_type": "markdown",
      "metadata": {
        "id": "EYD5G6uUhGPa"
      },
      "source": [
        "## Question 6\n",
        "**Polling:** Based on the dictionary below (i.e., favorite_languages):\n",
        "\n",
        "* Make a list of people who should take the favorite languages poll. Include some names that are already in the dictionary and some that are not.\n",
        "* Loop through the list of people who should take the poll. If they have already taken the poll, print a message thanking them for responding. If they have not yet taken the poll, print a message inviting them to take the poll."
      ]
    },
    {
      "cell_type": "code",
      "execution_count": 28,
      "metadata": {
        "id": "t5DXASxFhGPa",
        "outputId": "48de65ab-8b9f-47d9-8fde-c56e46551916",
        "colab": {
          "base_uri": "https://localhost:8080/"
        }
      },
      "outputs": [
        {
          "output_type": "stream",
          "name": "stdout",
          "text": [
            "Jen's favorite language: Python.\n",
            "Sarah's favorite language: C.\n",
            "Edward's favorite language: Ruby.\n",
            "Phil's favorite language: Python.\n",
            "\n",
            "\n",
            "Matt, please take this poll.\n",
            "Thank you for responding, Jen.\n",
            "Cam, please take this poll.\n",
            "Scott, please take this poll.\n",
            "Thank you for responding, Edward.\n",
            "Kyle, please take this poll.\n"
          ]
        }
      ],
      "source": [
        "favorite_languages = {\n",
        "    'jen': 'python',\n",
        "    'sarah': 'c',\n",
        "    'edward': 'ruby',\n",
        "    'phil': 'python',\n",
        "    }\n",
        "for name, language in favorite_languages.items():\n",
        "    print(name.title() + \"'s favorite language: \" + language.title() + \".\")\n",
        "print(\"\\n\")\n",
        "names = ['matt','jen','cam','scott','edward','kyle']\n",
        "for name in names:\n",
        "  if name in favorite_languages.keys():\n",
        "    print(\"Thank you for responding, \" + name.title() + \".\")\n",
        "  else:\n",
        "    print(name.title() + \", please take this poll.\")"
      ]
    },
    {
      "cell_type": "markdown",
      "metadata": {
        "id": "QKkGiLwLhGPa"
      },
      "source": []
    },
    {
      "cell_type": "markdown",
      "metadata": {
        "id": "vCvp5o5BhGPa"
      },
      "source": [
        "## Question 7\n",
        "**People:** Start with the program you wrote for Question 1. Make two new dictionaries representing different people, and store all three dictionaries in a list called `people`. Loop through your list of people. As you loop through the list, print everything you know about each person."
      ]
    },
    {
      "cell_type": "code",
      "execution_count": 31,
      "metadata": {
        "id": "ll526GYAhGPa",
        "outputId": "807f9edb-2ad0-4c94-e3c0-0cc841a8fbcf",
        "colab": {
          "base_uri": "https://localhost:8080/"
        }
      },
      "outputs": [
        {
          "output_type": "stream",
          "name": "stdout",
          "text": [
            "Gabrielle Corsino, is from Phoenix, and is 24 years old.\n",
            "Cam Corsino, is from Boston, and is 22 years old.\n",
            "Margaret Corsino, is from Boston, and is 57 years old.\n"
          ]
        }
      ],
      "source": [
        "people =[]\n",
        "person = {'first_name':'Gabrielle','last_name':'Corsino','age': 24,'city':'Phoenix',}\n",
        "people.append(person)\n",
        "person = {'first_name':'Cam','last_name':'Corsino','age': 22,'city':'Boston',}\n",
        "people.append(person)\n",
        "person = {'first_name':'margaret','last_name':'Corsino','age': 57,'city':'Boston',}\n",
        "people.append(person)\n",
        "for person in people:\n",
        "  name = person['first_name'].title() +\" \" + person['last_name'].title()\n",
        "  age = str(person['age'])\n",
        "  city = person['city'].title()\n",
        "  print(name + \", is from \" + city + \", and is \" + age + \" years old.\")"
      ]
    },
    {
      "cell_type": "markdown",
      "metadata": {
        "id": "DloWqwxshGPa"
      },
      "source": [
        "## Question 8\n",
        "**Pets:** Make several dictionaries, where each dictionary represents a different pet. In each dictionary, include the kind of animal and the owner’s name. Store these dictionaries in a list called `pets`. Next, loop through your list and as you do, print everything you know about each pet."
      ]
    },
    {
      "cell_type": "code",
      "execution_count": 37,
      "metadata": {
        "id": "81qH-lubhGPa",
        "outputId": "a13d8e21-a750-4716-d74d-e9e0d607707c",
        "colab": {
          "base_uri": "https://localhost:8080/"
        }
      },
      "outputs": [
        {
          "output_type": "stream",
          "name": "stdout",
          "text": [
            "\n",
            "Pet info:\n",
            "\tanimal type: dog\n",
            "\tname: sadie\n",
            "\towner: mark\n",
            "\n",
            "Pet info:\n",
            "\tanimal type: bunny\n",
            "\tname: luca\n",
            "\towner: carolyn\n",
            "\n",
            "Pet info:\n",
            "\tanimal type: cat\n",
            "\tname: masie\n",
            "\towner: margaret\n"
          ]
        }
      ],
      "source": [
        "pets = []\n",
        "pet = {'animal type': 'dog','name': 'sadie','owner': 'mark',}\n",
        "pets.append(pet)\n",
        "pet = {'animal type': 'bunny', 'name':'luca','owner': 'carolyn',}\n",
        "pets.append(pet)\n",
        "pet = {'animal type': 'cat','name': 'masie','owner': 'margaret',}\n",
        "pets.append(pet)\n",
        "for pet in pets:\n",
        "  print((\"\\nPet info\" + \":\"))\n",
        "  for key, value in pet.items():\n",
        "    print(\"\\t\" + key + \": \" + str(value))"
      ]
    },
    {
      "cell_type": "markdown",
      "metadata": {
        "id": "i8t3VPZFhGPa"
      },
      "source": [
        "## Question 9\n",
        "**Favorite Places:** Make a dictionary called `favorite_places`. Think of three names to use as keys in the dictionary, and store one to three favorite places for each person. To make this exercise a bit more interesting, ask some friends to name a few of their favorite places. Loop through the dictionary, and print each person’s name and their favorite places."
      ]
    },
    {
      "cell_type": "code",
      "execution_count": 40,
      "metadata": {
        "id": "6r-WU7WuhGPa",
        "outputId": "4fa4ecc8-8133-4627-a519-57491b96d86c",
        "colab": {
          "base_uri": "https://localhost:8080/"
        }
      },
      "outputs": [
        {
          "output_type": "stream",
          "name": "stdout",
          "text": [
            "\n",
            "Matt's favorite places\n",
            "- New Hampshire\n",
            "- Lake Ossippee\n",
            "- Burlington\n",
            "\n",
            "Cam's favorite places\n",
            "- Tennessee\n",
            "- Boston\n",
            "\n",
            "Margaret's favorite places\n",
            "- Newton\n",
            "- Connecticut\n"
          ]
        }
      ],
      "source": [
        "favorite_places = {'matt': ['new hampshire', 'lake ossippee', 'burlington'],'cam': ['tennessee', 'boston'],'margaret': ['newton', 'connecticut',]}\n",
        "for name, places in favorite_places.items():\n",
        "  print(\"\\n\" + name.title() + \"'s favorite places\")\n",
        "  for place in places:\n",
        "    print(\"- \" + place.title())"
      ]
    },
    {
      "cell_type": "markdown",
      "metadata": {
        "id": "xvzReWgchGPa"
      },
      "source": [
        "## Question 10\n",
        "**Favorite Numbers:** Modify your program from Question 2 so each person can have more than one favorite number. Then print each person’s name along with their favorite numbers."
      ]
    },
    {
      "cell_type": "code",
      "execution_count": 42,
      "metadata": {
        "id": "_KUPm50HhGPa",
        "outputId": "b2fc85f7-783c-4baf-a8f7-3e7a39eea2d1",
        "colab": {
          "base_uri": "https://localhost:8080/"
        }
      },
      "outputs": [
        {
          "output_type": "stream",
          "name": "stdout",
          "text": [
            "\n",
            "Cam's favorite numbers:\n",
            " 6\n",
            " 22\n",
            "\n",
            "Matt's favorite numbers:\n",
            " 11\n",
            " 7\n",
            "\n",
            "Scott's favorite numbers:\n",
            " 16\n",
            " 17\n",
            "\n",
            "Jackson's favorite numbers:\n",
            " 3\n",
            " 8\n",
            "\n",
            "Kyle's favorite numbers:\n",
            " 15\n",
            " 2\n"
          ]
        }
      ],
      "source": [
        "favorite_numbers = {'Cam': [6, 22],'Matt': [11, 7],'Scott': [16, 17],'Jackson': [3, 8],'Kyle': [15, 2]}\n",
        "for name, numbers in favorite_numbers.items():\n",
        "  print(\"\\n\" + name.title() + \"'s favorite numbers:\")\n",
        "  for number in numbers:\n",
        "    print(\" \" + str(number))"
      ]
    },
    {
      "cell_type": "markdown",
      "metadata": {
        "id": "2o_fIIhXhGPb"
      },
      "source": [
        "## Question 11\n",
        "**Cities:** Make a dictionary called `cities`. Use the names of three cities as keys in your dictionary. Create a dictionary of information about each city and include the country that the city is in, its approximate population, and one fact about that city. The keys for each city’s dictionary should be something like `country`, `population`, and `fact`. Print the name of each city and all of the information you have stored about it."
      ]
    },
    {
      "cell_type": "code",
      "execution_count": 45,
      "metadata": {
        "id": "zsAkQNXEhGPb",
        "outputId": "45796f0c-e425-4821-d81e-32f8983cb498",
        "colab": {
          "base_uri": "https://localhost:8080/"
        }
      },
      "outputs": [
        {
          "output_type": "stream",
          "name": "stdout",
          "text": [
            "\n",
            "Nashville is in Usa.\n",
            " its population is around 694000.\n",
            " it is the capital city.\n",
            "\n",
            "Windhoek is in Namibia.\n",
            " its population is around 325000.\n",
            " it is the capital city.\n",
            "\n",
            "Helsinki is in Finland.\n",
            " its population is around 643000.\n",
            " it is the capital city.\n"
          ]
        }
      ],
      "source": [
        "cities = {'nashville': {'country': 'usa','population': 694000,'fact': 'capital of tennessee',},'windhoek': {'country': 'namibia','population': 325000,'fact': 'capital of namibia',},'helsinki': {'country': 'finland','population': 643000,'fact': 'capital of finland',}}\n",
        "for city, city_info in cities.items():\n",
        "  country = city_info['country'].title()\n",
        "  population = city_info['population']\n",
        "  fact = city_info['fact'].title()\n",
        "  print(\"\\n\" + city.title() + \" is in \" + country + \".\")\n",
        "  print(\" its population is around \" + str(population) + '.')\n",
        "  print(\" it is the capital city.\")"
      ]
    },
    {
      "cell_type": "markdown",
      "metadata": {
        "id": "WxCw2xXRhGPb"
      },
      "source": [
        "## Question 12\n",
        "**Extensions:** We’re now working with examples that are complex enough that they can be extended in any number of ways. Use one of the example programs from this chapter, and extend it by adding new keys and values, changing the context of the program or improving the formatting of the output."
      ]
    },
    {
      "cell_type": "code",
      "execution_count": 32,
      "metadata": {
        "id": "wqh9kFLfhGPb",
        "outputId": "0d03b7c8-a6de-450c-e94c-d5ebc16e8af8",
        "colab": {
          "base_uri": "https://localhost:8080/"
        }
      },
      "outputs": [
        {
          "name": "stdout",
          "output_type": "stream",
          "text": [
            "\n",
            "Pet info:\n",
            "\tanimal type: dog\n",
            "\tname: sadie\n",
            "\towner: mark\n",
            "\n",
            "Pet info:\n",
            "\tanimal type: bunny\n",
            "\tname: luca\n",
            "\towner: carolyn\n",
            "\n",
            "Pet info:\n",
            "\tanimal type: cat\n",
            "\tname: masie\n",
            "\towner: margaret\n",
            "How old is your pet?\n",
            "Enter 'quit'4\n",
            "4\n",
            "How old is your pet?\n",
            "Enter 'quit'5\n",
            "5\n",
            "How old is your pet?\n",
            "Enter 'quit'10\n",
            "10\n",
            "How old is your pet?\n",
            "Enter 'quit'quit\n"
          ]
        }
      ],
      "source": [
        "pets = []\n",
        "pet = {'animal type': 'dog','name': 'sadie','owner': 'mark',}\n",
        "pets.append(pet)\n",
        "pet = {'animal type': 'bunny', 'name':'luca','owner': 'carolyn',}\n",
        "pets.append(pet)\n",
        "pet = {'animal type': 'cat','name': 'masie','owner': 'margaret',}\n",
        "pets.append(pet)\n",
        "for pet in pets:\n",
        "  print((\"\\nPet info\" + \":\"))\n",
        "  for key, value in pet.items():\n",
        "    print(\"\\t\" + key + \": \" + str(value))\n",
        "    prompt = \"How old is your pet?\"\n",
        "prompt +=\"\\nEnter 'quit'\"\n",
        "while True:\n",
        "  age = input(prompt)\n",
        "  if age == 'quit':\n",
        "    break\n",
        "  age = int(age)\n",
        "  if age < 3:\n",
        "    print(age)\n",
        "  elif age < 13:\n",
        "    print(age)"
      ]
    },
    {
      "cell_type": "markdown",
      "metadata": {
        "id": "5G-w4c2lhGPb"
      },
      "source": [
        "## Question 13\n",
        "**Rental Car:** Write a program that asks the user what kind of rental car they would like. Print a message about that car, such as “Let me see if I can find you a Subaru.”"
      ]
    },
    {
      "cell_type": "code",
      "execution_count": 49,
      "metadata": {
        "id": "UseM6hl0hGPb",
        "outputId": "978efc6e-8fec-404c-a571-6ef704442e26",
        "colab": {
          "base_uri": "https://localhost:8080/"
        }
      },
      "outputs": [
        {
          "output_type": "stream",
          "name": "stdout",
          "text": [
            "what type of car would you like to rent? Subaru Forester\n",
            "Let me see if I can find you a Subaru Forester.\n"
          ]
        }
      ],
      "source": [
        "rental_car = input('what type of car would you like to rent? ')\n",
        "print(f\"Let me see if I can find you a {car.title()}.\")"
      ]
    },
    {
      "cell_type": "markdown",
      "metadata": {
        "id": "KDwvFWR5hGPb"
      },
      "source": [
        "## Question 14\n",
        "**Restaurant Seating:** Write a program that asks the user how many people are in their dinner group. If the answer is more than eight, print a message saying they’ll have to wait for a table. Otherwise, report that their table is ready."
      ]
    },
    {
      "cell_type": "code",
      "execution_count": 54,
      "metadata": {
        "id": "aRMldXcbhGPb",
        "outputId": "c9d15a9a-373e-4750-c9ed-b0c8027662fc",
        "colab": {
          "base_uri": "https://localhost:8080/"
        }
      },
      "outputs": [
        {
          "output_type": "stream",
          "name": "stdout",
          "text": [
            "How many people are in your party? 6\n",
            "follow me this way.\n"
          ]
        }
      ],
      "source": [
        "dinner_group = input(\"How many people are in your party? \")\n",
        "dinner_group = int(dinner_group)\n",
        "if dinner_group > 8:\n",
        "  print(\"It will be a thirty minute wait.\")\n",
        "else:\n",
        "  print('follow me this way.')"
      ]
    },
    {
      "cell_type": "markdown",
      "metadata": {
        "id": "JMIhq8GvhGPb"
      },
      "source": [
        "## Question 15\n",
        "**Multiples of Ten:** Ask the user for a number, and then report whether the number is a multiple of 10 or not."
      ]
    },
    {
      "cell_type": "code",
      "execution_count": 59,
      "metadata": {
        "id": "iLp3LLnmhGPb",
        "outputId": "c39c5f05-1d36-4f1a-dec8-176b5e0ba3be",
        "colab": {
          "base_uri": "https://localhost:8080/"
        }
      },
      "outputs": [
        {
          "output_type": "stream",
          "name": "stdout",
          "text": [
            "pick a number: 6\n",
            "6 is not a multiple of 10.\n"
          ]
        }
      ],
      "source": [
        "number = input('pick a number: ')\n",
        "number = int(number)\n",
        "if number % 10 == 0:\n",
        "  print(f\"{number} is a multiple of 10.\")\n",
        "else:\n",
        "  print(f\"{number} is not a multiple of 10.\")"
      ]
    },
    {
      "cell_type": "markdown",
      "metadata": {
        "id": "qZAb4ujthGPb"
      },
      "source": [
        "## Question 16\n",
        "**Pizza Toppings:** Write a loop that prompts the user to enter a series of pizza toppings until they enter a 'quit' value. As they enter each topping, print a message saying you’ll add that topping to their pizza."
      ]
    },
    {
      "cell_type": "code",
      "execution_count": 61,
      "metadata": {
        "id": "WrukxvMmhGPb",
        "outputId": "49d8e952-997c-4d18-cbd3-e62856779f25",
        "colab": {
          "base_uri": "https://localhost:8080/"
        }
      },
      "outputs": [
        {
          "name": "stdout",
          "output_type": "stream",
          "text": [
            "\n",
            "Pizza topping:\n",
            "Enter 'quit'Bacon\n",
            " add Bacon\n",
            "\n",
            "Pizza topping:\n",
            "Enter 'quit'Mushroom\n",
            " add Mushroom\n",
            "\n",
            "Pizza topping:\n",
            "Enter 'quit'Pepperoni\n",
            " add Pepperoni\n",
            "\n",
            "Pizza topping:\n",
            "Enter 'quit'Sausage\n",
            " add Sausage\n",
            "\n",
            "Pizza topping:\n",
            "Enter 'quit'quit\n"
          ]
        }
      ],
      "source": [
        "prompt = \"\\nPizza topping:\"\n",
        "prompt +=\"\\nEnter 'quit'\"\n",
        "\n",
        "while True:\n",
        "  topping = input(prompt)\n",
        "  if topping != 'quit':\n",
        "    print(f\" add {topping}\")\n",
        "  else:\n",
        "    break"
      ]
    },
    {
      "cell_type": "markdown",
      "metadata": {
        "id": "iIXb5XaOhGPb"
      },
      "source": [
        "## Question 17\n",
        "**Movie Tickets:** A movie theater charges different ticket prices depending on a person’s age. If a person is under the age of 3, the ticket is free; if they are between 3 and 12, the ticket is \\\\$10; and if they are over age 12, the ticket is $15. Write a loop in which you ask users their age, and then tell them the cost of their movie ticket."
      ]
    },
    {
      "cell_type": "code",
      "execution_count": 68,
      "metadata": {
        "id": "4A9fA0QRhGPb",
        "outputId": "c3e9d3e7-f8c6-4442-a8e0-e1371ab5546b",
        "colab": {
          "base_uri": "https://localhost:8080/"
        }
      },
      "outputs": [
        {
          "name": "stdout",
          "output_type": "stream",
          "text": [
            "How old are you?\n",
            "Enter 'quit'5\n",
            " The ticket is $10.\n",
            "How old are you?\n",
            "Enter 'quit'2\n",
            " free entry\n",
            "How old are you?\n",
            "Enter 'quit'22\n",
            " The ticket is $15.\n",
            "How old are you?\n",
            "Enter 'quit'quit\n"
          ]
        }
      ],
      "source": [
        "prompt = \"How old are you?\"\n",
        "prompt +=\"\\nEnter 'quit'\"\n",
        "while True:\n",
        "  age = input(prompt)\n",
        "  if age == 'quit':\n",
        "    break\n",
        "  age = int(age)\n",
        "  if age < 3:\n",
        "    print(\" free entry\")\n",
        "  elif age < 13:\n",
        "    print(\" The ticket is $10.\")\n",
        "  else:\n",
        "    print(\" The ticket is $15.\")"
      ]
    },
    {
      "cell_type": "markdown",
      "metadata": {
        "id": "4ji1-nFMhGPb"
      },
      "source": [
        "## Question 18\n",
        "**Three Exits:** Write different versions of either Question 16 or Question 17 that do each of the following at least once:\n",
        "\n",
        "* Use a conditional test in the while statement to stop the loop.\n",
        "* Use an active variable to control how long the loop runs.\n",
        "* Use a break statement to exit the loop when the user enters a 'quit' value."
      ]
    },
    {
      "cell_type": "code",
      "source": [
        "prompt = \"How old are you?\"\n",
        "prompt +=\"\\nEnter 'quit'\"\n",
        "while True:\n",
        "  age = input(prompt)\n",
        "  if age == 'quit':\n",
        "    break\n",
        "  age = int(age)\n",
        "  if age < 3:\n",
        "    print(\" free entry\")\n",
        "  elif age < 13:\n",
        "    print(\" The ticket is $10.\")\n",
        "  else:\n",
        "    print(\" The ticket is $15.\")\n",
        "\n",
        "\n"
      ],
      "metadata": {
        "id": "ieYDFFEcQySU",
        "outputId": "1d2a1bd6-7b88-42a2-e66c-155a5b7fc491",
        "colab": {
          "base_uri": "https://localhost:8080/"
        }
      },
      "execution_count": 1,
      "outputs": [
        {
          "name": "stdout",
          "output_type": "stream",
          "text": [
            "How old are you?\n",
            "Enter 'quit'6\n",
            " The ticket is $10.\n",
            "How old are you?\n",
            "Enter 'quit'22\n",
            " The ticket is $15.\n",
            "How old are you?\n",
            "Enter 'quit'quit\n"
          ]
        }
      ]
    },
    {
      "cell_type": "markdown",
      "metadata": {
        "id": "YWU3xy_khGPe"
      },
      "source": [
        "## Question 19\n",
        "**Deli:** Make a list called `sandwich_orders` and fill it with the names of various sandwiches. Then make an empty list called `finished_sandwiches`. Loop through the list of sandwich orders and print a message for each order, such as `I made your tuna sandwich`. As each sandwich is made, move it to the list of finished sandwiches. After all the sandwiches have been made, print a message listing each sandwich that was made."
      ]
    },
    {
      "cell_type": "code",
      "execution_count": 71,
      "metadata": {
        "id": "8UO78bm_hGPe",
        "outputId": "2f023b7d-334b-45fd-f4c6-4d214e64ae63",
        "colab": {
          "base_uri": "https://localhost:8080/"
        }
      },
      "outputs": [
        {
          "output_type": "stream",
          "name": "stdout",
          "text": [
            "I made your cheesesteak sandwich.\n",
            "I made your breakfast sandwich.\n",
            "I made your BLT sandwich.\n",
            "I made your grilled cheese sandwich.\n",
            "\n",
            "\n",
            "completed cheesesteak sandwich.\n",
            "completed breakfast sandwich.\n",
            "completed BLT sandwich.\n",
            "completed grilled cheese sandwich.\n"
          ]
        }
      ],
      "source": [
        "sandwich_orders = ['grilled cheese','BLT', 'breakfast','cheesesteak']\n",
        "finished_sandwiches = []\n",
        "while sandwich_orders:\n",
        "  current_sandwich = sandwich_orders.pop()\n",
        "  print(f\"I made your {current_sandwich} sandwich.\")\n",
        "  finished_sandwiches.append(current_sandwich)\n",
        "print(\"\\n\")\n",
        "for sandwich in finished_sandwiches:\n",
        "    print(f\"completed {sandwich} sandwich.\")"
      ]
    },
    {
      "cell_type": "markdown",
      "metadata": {
        "id": "yawNQ5LahGPe"
      },
      "source": [
        "## Question 20\n",
        "**No Pastrami:** Using the list `sandwich_orders` from Question 19, make sure the sandwich `pastrami` appears in the list at least three times. Add code near the beginning of your program to print a message saying the deli has run out of pastrami, and then use a `while` loop to remove all occurrences of `pastrami` from `sandwich_orders`. Make sure no pastrami sandwiches end up in `finished_sandwiches`."
      ]
    },
    {
      "cell_type": "code",
      "execution_count": 78,
      "metadata": {
        "id": "zCgVLRh9hGPe",
        "outputId": "2c6c7955-1e57-415a-f988-9461f360e707",
        "colab": {
          "base_uri": "https://localhost:8080/"
        }
      },
      "outputs": [
        {
          "output_type": "stream",
          "name": "stdout",
          "text": [
            "Sorry, we're out of pastrami.\n",
            "\n",
            "\n",
            "I made your cheesesteak sandwich.\n",
            "I made your breakfast sandwich.\n",
            "I made your BLT sandwich.\n",
            "I made your grilled cheese sandwich.\n",
            "\n",
            "\n",
            "completed cheesesteak sandwich.\n",
            "completed breakfast sandwich.\n",
            "completed BLT sandwich.\n",
            "completed grilled cheese sandwich.\n"
          ]
        }
      ],
      "source": [
        "sandwich_orders = ['pastrami','grilled cheese','BLT','pastrami', 'breakfast','pastrami','cheesesteak']\n",
        "finished_sandwiches = []\n",
        "print(\"Sorry, we're out of pastrami.\")\n",
        "while \"pastrami\" in sandwich_orders:\n",
        "  sandwich_orders.remove('pastrami')\n",
        "print(\"\\n\")\n",
        "while sandwich_orders:\n",
        "  current_sandwich = sandwich_orders.pop()\n",
        "  print(f\"I made your {current_sandwich} sandwich.\")\n",
        "  finished_sandwiches.append(current_sandwich)\n",
        "print('\\n')\n",
        "for sandwich in finished_sandwiches:\n",
        "  print(f\"completed {sandwich} sandwich.\")"
      ]
    },
    {
      "cell_type": "markdown",
      "metadata": {
        "id": "OSzEpEbhhGPe"
      },
      "source": [
        "## Question 21\n",
        "**Dream Vacation:** Write a program that polls users about their dream vacation. Write a prompt similar to *If you could visit one place in the world, where would you go?* Include a block of code that prints the results of the poll."
      ]
    },
    {
      "cell_type": "code",
      "execution_count": 7,
      "metadata": {
        "id": "15Pn4GTHhGPe",
        "outputId": "0de57871-ddb1-43a8-ce27-e975e48d6b04",
        "colab": {
          "base_uri": "https://localhost:8080/"
        }
      },
      "outputs": [
        {
          "output_type": "stream",
          "name": "stdout",
          "text": [
            "\n",
            "Name Matt\n",
            "If you could visit one place in the world, where would you go? Caribbean\n",
            "\n",
            "New response (yes/no)yes\n",
            "\n",
            "Name Scott\n",
            "If you could visit one place in the world, where would you go? Japan\n",
            "\n",
            "New response (yes/no)yes\n",
            "\n",
            "NameKyle\n",
            "If you could visit one place in the world, where would you go? Europe\n",
            "\n",
            "New response (yes/no)no\n",
            "\n",
            "--- Results ---\n",
            " Matt: Caribbean.\n",
            " Scott: Japan.\n",
            "Kyle: Europe.\n"
          ]
        }
      ],
      "source": [
        "name_prompt = \"\\nName\"\n",
        "place_prompt = \"If you could visit one place in the world, where would you go? \"\n",
        "continue_prompt = \"\\nNew response (yes/no)\"\n",
        "responses = {}\n",
        "while True:\n",
        "  name = input(name_prompt)\n",
        "  place = input(place_prompt)\n",
        "  responses[name] = place\n",
        "  repeat = input(continue_prompt)\n",
        "  if repeat != 'yes':\n",
        "    break\n",
        "print(\"\\n--- Results ---\")\n",
        "for name, place in responses.items():\n",
        "  print(f\"{name.title()}: {place.title()}.\")"
      ]
    }
  ],
  "metadata": {
    "kernelspec": {
      "display_name": "Python 3 (ipykernel)",
      "language": "python",
      "name": "python3"
    },
    "language_info": {
      "codemirror_mode": {
        "name": "ipython",
        "version": 3
      },
      "file_extension": ".py",
      "mimetype": "text/x-python",
      "name": "python",
      "nbconvert_exporter": "python",
      "pygments_lexer": "ipython3",
      "version": "3.8.10"
    },
    "colab": {
      "provenance": []
    }
  },
  "nbformat": 4,
  "nbformat_minor": 0
}